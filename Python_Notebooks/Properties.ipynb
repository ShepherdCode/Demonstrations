{
 "cells": [
  {
   "cell_type": "markdown",
   "id": "b5909e3d",
   "metadata": {},
   "source": [
    "# Properties\n",
    "See Lott & Phillips, chapter 5, page 170, \"Adding behaviors to class data with properties.\"\n",
    "\n",
    "For a helpful tutorial, see [RealPython](https://realpython.com/python-property/)."
   ]
  },
  {
   "cell_type": "markdown",
   "id": "afcf6143",
   "metadata": {},
   "source": [
    "## Properties as seen by the class implementer\n",
    "\n",
    "The property function exists as an aid to the client programmer.\n",
    "Using a property does not reduce work for the class implementer!\n",
    "Using a property reduces work for the client programmer.\n",
    "\n",
    "This class maintains an attribute called name.\n",
    "It also maintains a counter of how often the name changed.\n",
    "\n",
    "The naming conventions suggest clients should use set_name() and get_name()."
   ]
  },
  {
   "cell_type": "code",
   "execution_count": 1,
   "id": "11fb29ea",
   "metadata": {},
   "outputs": [],
   "source": [
    "class ColorWithMethods():\n",
    "    def __init__(self,name:str):\n",
    "        self.count_sets=0\n",
    "        self.set_name(name)\n",
    "    def set_name(self,name):\n",
    "        self.count_sets += 1\n",
    "        self._name = name\n",
    "    def get_name(self)->str:\n",
    "        return self._name\n",
    "    def __repr__(self):\n",
    "        return 'Color('+self._name+', was named '+\\\n",
    "            str(self.count_sets)+' times)'"
   ]
  },
  {
   "cell_type": "code",
   "execution_count": 2,
   "id": "7c68e5e3",
   "metadata": {},
   "outputs": [
    {
     "name": "stdout",
     "output_type": "stream",
     "text": [
      "Initially, Color(red, was named 1 times)\n",
      "Then, Color(blue, was named 2 times)\n",
      "Then, Color(green, was named 3 times)\n"
     ]
    }
   ],
   "source": [
    "# Good clients avoid using underscore methods and attributes.\n",
    "color1 = ColorWithMethods('red')\n",
    "print('Initially,',color1)\n",
    "color1.set_name('blue')\n",
    "print('Then,',color1)\n",
    "color1.set_name('green')\n",
    "print('Then,',color1)"
   ]
  },
  {
   "cell_type": "code",
   "execution_count": 3,
   "id": "533846e3",
   "metadata": {},
   "outputs": [
    {
     "name": "stdout",
     "output_type": "stream",
     "text": [
      "Initially, Color(red, was named 1 times)\n",
      "Then, Color(blue, was named 1 times)\n",
      "Then, Color(green, was named 1 times)\n"
     ]
    }
   ],
   "source": [
    "# Lazy clients hate calling methods like set_name(name).\n",
    "# They would rather set the variable directly. Here is how.\n",
    "color1 = None\n",
    "color1 = ColorWithMethods('red')\n",
    "print('Initially,',color1)\n",
    "color1._name='blue'\n",
    "print('Then,',color1)\n",
    "color1._name='green'\n",
    "print('Then,',color1)\n",
    "# Notice how our counter never updates.\n",
    "# This is because the client bypassed set_name().\n",
    "# The client should have known better!\n",
    "# The underscore before the variable name was a warning."
   ]
  },
  {
   "cell_type": "code",
   "execution_count": 4,
   "id": "501aeff7",
   "metadata": {},
   "outputs": [],
   "source": [
    "# But we are here to serve the client.\n",
    "# To accommodate the lazy client, we use properties.\n",
    "# The setter method has a underscore name: clients shouldn't use it.\n",
    "# The attribute also has an underscore name: clients shouldn't use it.\n",
    "# But now there is a propery called name,\n",
    "# and clients are invited to use it!\n",
    "class ColorWithProperties():\n",
    "    def __init__(self,name:str):\n",
    "        self.count_sets=0\n",
    "        self._set_name(name)\n",
    "    def _set_name(self,name):\n",
    "        self.count_sets += 1\n",
    "        self._name = name\n",
    "    def _get_name(self)->str:\n",
    "        return self._name\n",
    "    def __repr__(self):\n",
    "        return 'Color('+self._name+', was set '+\\\n",
    "            str(self.count_sets)+' times)'\n",
    "    name=property(\n",
    "        fget=_get_name,\n",
    "        fset=_set_name,\n",
    "        doc=\"The human-readable name of the color.\"\n",
    "        ) "
   ]
  },
  {
   "cell_type": "code",
   "execution_count": 5,
   "id": "68b0ba76",
   "metadata": {},
   "outputs": [
    {
     "name": "stdout",
     "output_type": "stream",
     "text": [
      "Initially, Color(red, was set 1 times)\n",
      "Then, Color(blue, was set 2 times)\n",
      "Then, Color(green, was set 3 times)\n"
     ]
    }
   ],
   "source": [
    "# The lazy client is trying to avoid the setter method.\n",
    "# But we tricked the client into calling our setter method.\n",
    "# The attribute \"name\" is actually an alias for the setter.\n",
    "# Notice how our counter remains updated.\n",
    "color1 = None\n",
    "color1 = ColorWithProperties('red')\n",
    "print('Initially,',color1)\n",
    "color1.name='blue'\n",
    "print('Then,',color1)\n",
    "color1.name='green'\n",
    "print('Then,',color1)"
   ]
  },
  {
   "cell_type": "code",
   "execution_count": 6,
   "id": "d631b627",
   "metadata": {},
   "outputs": [
    {
     "name": "stdout",
     "output_type": "stream",
     "text": [
      "Initially, Color(red, was set 1 times)\n",
      "Then, Color(blue, was set 1 times)\n",
      "Then, Color(green, was set 1 times)\n"
     ]
    }
   ],
   "source": [
    "# Of course, an evil client can still get around our safeguards.\n",
    "# This client is updating the attribute directly.\n",
    "# Remember: this client has been warned!\n",
    "color1 = None\n",
    "color1 = ColorWithProperties('red')\n",
    "print('Initially,',color1)\n",
    "color1._name='blue'\n",
    "print('Then,',color1)\n",
    "color1._name='green'\n",
    "print('Then,',color1)"
   ]
  },
  {
   "cell_type": "code",
   "execution_count": null,
   "id": "52a8131f",
   "metadata": {},
   "outputs": [],
   "source": []
  }
 ],
 "metadata": {
  "kernelspec": {
   "display_name": "Python 3 (ipykernel)",
   "language": "python",
   "name": "python3"
  },
  "language_info": {
   "codemirror_mode": {
    "name": "ipython",
    "version": 3
   },
   "file_extension": ".py",
   "mimetype": "text/x-python",
   "name": "python",
   "nbconvert_exporter": "python",
   "pygments_lexer": "ipython3",
   "version": "3.10.0"
  }
 },
 "nbformat": 4,
 "nbformat_minor": 5
}
