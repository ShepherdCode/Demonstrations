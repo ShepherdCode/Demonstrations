{
 "cells": [
  {
   "cell_type": "markdown",
   "id": "bd2ca073",
   "metadata": {},
   "source": [
    "# Global functions "
   ]
  },
  {
   "cell_type": "markdown",
   "id": "8e51bfc8",
   "metadata": {},
   "source": [
    "# len()\n",
    "Global function len(obj) calls obj.\\__len\\__(),\n",
    "which should return a non-negative integer."
   ]
  },
  {
   "cell_type": "code",
   "execution_count": 13,
   "id": "06168b19",
   "metadata": {},
   "outputs": [
    {
     "name": "stdout",
     "output_type": "stream",
     "text": [
      "4\n"
     ]
    }
   ],
   "source": [
    "# The Python list class correctly implements methods for the len() function.\n",
    "mylist = [1,2,3,4]\n",
    "print(len(mylist))"
   ]
  },
  {
   "cell_type": "code",
   "execution_count": 15,
   "id": "b18e2119",
   "metadata": {},
   "outputs": [
    {
     "name": "stdout",
     "output_type": "stream",
     "text": [
      "10\n"
     ]
    }
   ],
   "source": [
    "# Classes can implement length any way they choose.\n",
    "# The length of this (silly) class gets set in the constructor.\n",
    "class length():\n",
    "    def __init__(self,length):\n",
    "        '''Constructor method.'''\n",
    "        self.length=length\n",
    "    def __len__(self):\n",
    "        '''Dunder (double underscore) method.'''\n",
    "        return self.length\n",
    "\n",
    "ten = length(10)\n",
    "print(len(ten))"
   ]
  },
  {
   "cell_type": "markdown",
   "id": "7d15fe76",
   "metadata": {},
   "source": [
    "## str() and repr()\n",
    "Global function str(obj) calls obj.\\__str\\__(),\n",
    "which should return a human-readable description of obj.\n",
    "\n",
    "Global function repr(obj) calls obj.\\__repr\\__(),\n",
    "which should return a machine-readable description of obj.   \n",
    "\n",
    "If obj.\\__str\\__() does not exist, \n",
    "str(obj) calls obj.\\__repr\\__().\n",
    "If that does not exist, \n",
    "str(obj) tries the super class.\n",
    "In the base class, Object.\\__repr\\__()\n",
    "shows the class name and the object's hash value."
   ]
  },
  {
   "cell_type": "code",
   "execution_count": 3,
   "id": "42c85395",
   "metadata": {},
   "outputs": [],
   "source": [
    "def show(obj):\n",
    "    print('str() says',str(obj))\n",
    "    print('repr() says',repr(obj))"
   ]
  },
  {
   "cell_type": "code",
   "execution_count": 4,
   "id": "d2d23050",
   "metadata": {},
   "outputs": [
    {
     "name": "stdout",
     "output_type": "stream",
     "text": [
      "str() says 10.5\n",
      "repr() says 10.5\n"
     ]
    }
   ],
   "source": [
    "# Some Python classes \n",
    "f = float(10.5)\n",
    "show(f)"
   ]
  },
  {
   "cell_type": "code",
   "execution_count": 5,
   "id": "893f93c5",
   "metadata": {},
   "outputs": [
    {
     "name": "stdout",
     "output_type": "stream",
     "text": [
      "str() says <__main__.neither object at 0x10e7af1f0>\n",
      "repr() says <__main__.neither object at 0x10e7af1f0>\n"
     ]
    }
   ],
   "source": [
    "class neither():\n",
    "    '''This class has relies on methods inherited from Object.'''\n",
    "    pass\n",
    "\n",
    "t=neither()\n",
    "show(t)"
   ]
  },
  {
   "cell_type": "code",
   "execution_count": 6,
   "id": "d1abf4d8",
   "metadata": {},
   "outputs": [
    {
     "name": "stdout",
     "output_type": "stream",
     "text": [
      "str() says STR\n",
      "repr() says REPR\n"
     ]
    }
   ],
   "source": [
    "class both():\n",
    "    '''This class implements methods for repr() and str().'''\n",
    "    def __repr__(self):\n",
    "        return \"REPR\"\n",
    "    def __str__(self):\n",
    "        return \"STR\"\n",
    "\n",
    "t=both()\n",
    "show(t)"
   ]
  },
  {
   "cell_type": "code",
   "execution_count": 7,
   "id": "caa20251",
   "metadata": {},
   "outputs": [
    {
     "name": "stdout",
     "output_type": "stream",
     "text": [
      "str() says STR\n",
      "repr() says <__main__.just_str object at 0x10e7aefe0>\n"
     ]
    }
   ],
   "source": [
    "class just_str():\n",
    "    '''This class implements the method for str() only.'''\n",
    "    def __str__(self):\n",
    "        return \"STR\"\n",
    "\n",
    "t=just_str()\n",
    "show(t)"
   ]
  },
  {
   "cell_type": "code",
   "execution_count": 8,
   "id": "aa918d7d",
   "metadata": {},
   "outputs": [
    {
     "name": "stdout",
     "output_type": "stream",
     "text": [
      "str() says REPR\n",
      "repr() says REPR\n"
     ]
    }
   ],
   "source": [
    "class just_repr():\n",
    "    '''This class implements the method for repr() only.'''\n",
    "    def __repr__(self):\n",
    "        return \"REPR\"\n",
    "\n",
    "t=just_repr()\n",
    "show(t)"
   ]
  },
  {
   "cell_type": "code",
   "execution_count": null,
   "id": "51bc006b",
   "metadata": {},
   "outputs": [],
   "source": []
  }
 ],
 "metadata": {
  "kernelspec": {
   "display_name": "Python 3 (ipykernel)",
   "language": "python",
   "name": "python3"
  },
  "language_info": {
   "codemirror_mode": {
    "name": "ipython",
    "version": 3
   },
   "file_extension": ".py",
   "mimetype": "text/x-python",
   "name": "python",
   "nbconvert_exporter": "python",
   "pygments_lexer": "ipython3",
   "version": "3.10.0"
  }
 },
 "nbformat": 4,
 "nbformat_minor": 5
}
