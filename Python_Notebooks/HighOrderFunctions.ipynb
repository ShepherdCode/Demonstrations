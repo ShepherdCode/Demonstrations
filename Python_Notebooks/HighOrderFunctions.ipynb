{
 "cells": [
  {
   "cell_type": "markdown",
   "id": "61d73c5c",
   "metadata": {},
   "source": [
    "# Functions of Functions\n",
    "The python global functions map() and filter() functions:\n",
    "\n",
    "* take other functions as parameters. \n",
    "* are called second-order or higher-order functions. \n",
    "* are examples of functional programming.\n",
    "* are derived from lambda calculus."
   ]
  },
  {
   "cell_type": "markdown",
   "id": "fb5b0b35",
   "metadata": {},
   "source": [
    "## map ()\n",
    "Global function map(f,c)\n",
    "* applies function f(e) to each element e of collection c.\n",
    "* creates a new collection of the same length. "
   ]
  },
  {
   "cell_type": "code",
   "execution_count": 1,
   "id": "6cbc0db5",
   "metadata": {},
   "outputs": [
    {
     "data": {
      "text/plain": [
       "['1', '2', '3', '4', '5']"
      ]
     },
     "execution_count": 1,
     "metadata": {},
     "output_type": "execute_result"
    }
   ],
   "source": [
    "# Task: apply the global function str() to elements of a list\n",
    "# The task could be implemented with a loop...\n",
    "list_of_numbers = [1,2,3,4,5]\n",
    "list_of_strings = []\n",
    "for e in list_of_numbers:\n",
    "    list_of_strings.append(str(e))\n",
    "list_of_strings"
   ]
  },
  {
   "cell_type": "code",
   "execution_count": 2,
   "id": "68759dac",
   "metadata": {},
   "outputs": [
    {
     "data": {
      "text/plain": [
       "['1', '2', '3', '4', '5']"
      ]
     },
     "execution_count": 2,
     "metadata": {},
     "output_type": "execute_result"
    }
   ],
   "source": [
    "# The task is easier using map()...\n",
    "list_of_strings = list(map(str,list_of_numbers))\n",
    "# The paramter str is a reference to a function object.\n",
    "# The return value is type <map> but we wanted a list.\n",
    "# Luckily, the list constructor is overloaded to take a map.\n",
    "list_of_strings"
   ]
  },
  {
   "cell_type": "markdown",
   "id": "916b8959",
   "metadata": {},
   "source": [
    "## filter()\n",
    "Global function filter(f,c) \n",
    "* applies function f(e) to each element e of collection c.\n",
    "* requires a function that returns True or False.\n",
    "* uses f to decide whether to retain each element of c.\n",
    "* creates a new collection whose length is between 0 and len(c)."
   ]
  },
  {
   "cell_type": "code",
   "execution_count": 3,
   "id": "8e62f8f2",
   "metadata": {},
   "outputs": [
    {
     "data": {
      "text/plain": [
       "[2, 4]"
      ]
     },
     "execution_count": 3,
     "metadata": {},
     "output_type": "execute_result"
    }
   ],
   "source": [
    "# Use isEven() and filter() to select the even numbers of a list.\n",
    "def isEven(n):\n",
    "    return n%2==0\n",
    "list_of_numbers = [1,2,3,4,5]\n",
    "list_of_evens = list(filter(isEven,list_of_numbers))\n",
    "list_of_evens"
   ]
  },
  {
   "cell_type": "markdown",
   "id": "e6a70928",
   "metadata": {},
   "source": [
    "## lambda\n",
    "Some functions aren't worth defining because they are only used once. \n",
    "Use the keyword lambda to create an anonymous function\n",
    "and avoid the formal function declaration."
   ]
  },
  {
   "cell_type": "code",
   "execution_count": 4,
   "id": "b5ffe3f9",
   "metadata": {},
   "outputs": [
    {
     "data": {
      "text/plain": [
       "[2, 4]"
      ]
     },
     "execution_count": 4,
     "metadata": {},
     "output_type": "execute_result"
    }
   ],
   "source": [
    "# Use lambda and filter() to select the even numbers of a list.\n",
    "list_of_numbers = [1,2,3,4,5]\n",
    "list_of_evens = list(filter(lambda n: n%2==0, list_of_numbers))\n",
    "list_of_evens"
   ]
  },
  {
   "cell_type": "markdown",
   "id": "d61ea337",
   "metadata": {},
   "source": [
    "## reduce()\n",
    "The function reduce(f,c) uses function f(e,t) to generate one number from collection c. \n",
    "The function f(e,p) combines each collection element e with a running total t.\n",
    "\n",
    "Any number computed from a collection is called a statistic.\n",
    "Reduce could be used to generate statistics such as sum or max or min, \n",
    "though those are easier to code with Python's global functions sum() and max() and min(). \n",
    "Python does not offer product(), so that makes a good use for reduse."
   ]
  },
  {
   "cell_type": "code",
   "execution_count": 6,
   "id": "8baa2d58",
   "metadata": {},
   "outputs": [
    {
     "data": {
      "text/plain": [
       "120"
      ]
     },
     "execution_count": 6,
     "metadata": {},
     "output_type": "execute_result"
    }
   ],
   "source": [
    "# Compute the product of elements of a list.\n",
    "# The lambda function computes each element times the product so far.\n",
    "from functools import reduce\n",
    "list_of_numbers = [1,2,3,4,5]\n",
    "product = reduce(lambda e,t: e*t, list_of_numbers)\n",
    "product"
   ]
  },
  {
   "cell_type": "code",
   "execution_count": null,
   "id": "e0f12d11",
   "metadata": {},
   "outputs": [],
   "source": []
  }
 ],
 "metadata": {
  "kernelspec": {
   "display_name": "Python 3 (ipykernel)",
   "language": "python",
   "name": "python3"
  },
  "language_info": {
   "codemirror_mode": {
    "name": "ipython",
    "version": 3
   },
   "file_extension": ".py",
   "mimetype": "text/x-python",
   "name": "python",
   "nbconvert_exporter": "python",
   "pygments_lexer": "ipython3",
   "version": "3.10.0"
  }
 },
 "nbformat": 4,
 "nbformat_minor": 5
}
