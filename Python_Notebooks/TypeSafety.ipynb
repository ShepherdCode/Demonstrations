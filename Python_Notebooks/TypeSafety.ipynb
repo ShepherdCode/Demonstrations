{
 "cells": [
  {
   "cell_type": "markdown",
   "id": "58b13d13",
   "metadata": {},
   "source": [
    "# Type Safety\n",
    "See Lott & Phillips, 4th edition, chapter 5, page 164, \"Treat objects as objects\".\n",
    "\n",
    "Strict type safety is not possible since Python uses dynamic typing. When used intentionally, this is called Monkey Typing. Testing is one application: swapping a live-data class for a test-data class at run time. \n",
    "\n",
    "We can approximate type safety using static type checking. Python itself does not do this, but tools like mypy an pylint do it. They check the code without running it. They cannot catch every type violation, but they can be more effective than \"just running the code\" to test it.\n",
    "\n"
   ]
  },
  {
   "cell_type": "markdown",
   "id": "9e6147f3",
   "metadata": {},
   "source": [
    "## Example: a distance function"
   ]
  },
  {
   "cell_type": "code",
   "execution_count": 1,
   "id": "de2fa921",
   "metadata": {},
   "outputs": [
    {
     "name": "stdout",
     "output_type": "stream",
     "text": [
      "hypot(3,4)= 5.0\n",
      "hypot(5,12)= 13.0\n",
      "hypot(6,10)= 11.661903789690601\n"
     ]
    }
   ],
   "source": [
    "# This function computes the hypotenuse of a right triangle.\n",
    "from math import hypot\n",
    "print('hypot(3,4)=',hypot(3,4))   # famous examle using integers\n",
    "print('hypot(5,12)=',hypot(5,12))  # another famous example\n",
    "print('hypot(6,10)=',hypot(6,10))   # but in general, the answer is not an integer"
   ]
  },
  {
   "cell_type": "code",
   "execution_count": 2,
   "id": "abbdcc06",
   "metadata": {},
   "outputs": [],
   "source": [
    "# Our distance function builds on the hypot function.\n",
    "# Our function computes the distance between points on the 2D plane.\n",
    "# It effectively draws a right triangle and computes the hypotenuse.\n",
    "def distance(p1,p2):\n",
    "    '''Assumption: each point has X and Y coordinates on the 2D plane.'''\n",
    "    horizontal = p1[0]-p2[0]\n",
    "    vertical   = p1[1]-p2[1]\n",
    "    return hypot(horizontal,vertical)"
   ]
  },
  {
   "cell_type": "code",
   "execution_count": 3,
   "id": "e6e4972f",
   "metadata": {},
   "outputs": [
    {
     "name": "stdout",
     "output_type": "stream",
     "text": [
      "Good client ... distance =  5.0 (right)\n"
     ]
    }
   ],
   "source": [
    "# This client uses our function correctly.\n",
    "def good_client(distance_function):\n",
    "    print('Good client ... ',end='')\n",
    "    p1 = (0,0)\n",
    "    p2 = (3,4)\n",
    "    try:\n",
    "        print('distance = ',\n",
    "              distance_function( p1, p2) , '(right)')  \n",
    "    except Exception as ex:\n",
    "        print('There was an exception!')\n",
    "        print(ex)\n",
    "good_client(distance)"
   ]
  },
  {
   "cell_type": "markdown",
   "id": "f132f15e",
   "metadata": {},
   "source": [
    "## Client misuse of the distance function"
   ]
  },
  {
   "cell_type": "code",
   "execution_count": 4,
   "id": "87b51b0d",
   "metadata": {},
   "outputs": [
    {
     "name": "stdout",
     "output_type": "stream",
     "text": [
      "Bad client ... distance =  5.0 (wrong)\n"
     ]
    }
   ],
   "source": [
    "# This client uses our function incorrectly by passing 3D points.\n",
    "# The two points are far from each other along the z axis.\n",
    "# But our function ignores the z axis.\n",
    "# The answer is very wrong but the client may never know it.\n",
    "def bad_client(distance_function):\n",
    "    print('Bad client ... ',end='')\n",
    "    p1 = (0,0,0)\n",
    "    p2 = (3,4,100)\n",
    "    try:\n",
    "        print('distance = ',\n",
    "              distance_function( p1, p2) , '(wrong)')  \n",
    "    except Exception as ex:\n",
    "        print('There was an exception!')\n",
    "        print(ex)\n",
    "bad_client(distance)"
   ]
  },
  {
   "cell_type": "code",
   "execution_count": 5,
   "id": "656d1ab3",
   "metadata": {},
   "outputs": [],
   "source": [
    "# The pylint tool does not catch this problem. Try it!\n",
    "# The mypy tool does not detect this problem. Try it!"
   ]
  },
  {
   "cell_type": "markdown",
   "id": "0f78abd6",
   "metadata": {},
   "source": [
    "## Attempts at type safety"
   ]
  },
  {
   "cell_type": "code",
   "execution_count": 6,
   "id": "89d0dfaa",
   "metadata": {},
   "outputs": [
    {
     "name": "stdout",
     "output_type": "stream",
     "text": [
      "Good client ... distance =  5.0 (right)\n",
      "Bad client ... There was an exception!\n",
      "Both parameters must be 2D points!\n"
     ]
    }
   ],
   "source": [
    "# This wrapper function adds type checking at run time.\n",
    "# But this approach has disadvantages.\n",
    "# Having to type all this undoes some benefits of using point ojects.\n",
    "# Having to run all this slows the program at run time.\n",
    "# Having to write all this test code is itself error-prone.\n",
    "# And there is an unintended consequence:\n",
    "# since our code handles it, mypy does not flag the bad client!\n",
    "def guarded_distance(p1,p2):  # wrapper\n",
    "    msg = 'Both parameters must be 2D points!'\n",
    "    try:\n",
    "        p1x=float(p1[0])\n",
    "        p2x=float(p2[0])\n",
    "        p1y=float(p1[1])\n",
    "        p2y=float(p2[1])\n",
    "    except:\n",
    "        raise Exception(msg)\n",
    "    try:\n",
    "        p1z=float(p1[2])\n",
    "        p2z=float(p2[2])\n",
    "    except:\n",
    "        pass\n",
    "    else:\n",
    "        raise Exception(msg)\n",
    "    return distance(p1,p2)  # pass-thru\n",
    "good_client(guarded_distance)\n",
    "bad_client(guarded_distance)"
   ]
  },
  {
   "cell_type": "code",
   "execution_count": 7,
   "id": "9a732c34",
   "metadata": {},
   "outputs": [
    {
     "name": "stdout",
     "output_type": "stream",
     "text": [
      "Good client ... distance =  5.0 (right)\n",
      "Bad client ... distance =  5.0 (wrong)\n"
     ]
    }
   ],
   "source": [
    "# This code communicates our intentions to client programmers. \n",
    "# Of course Python doesn't check the type hints.\n",
    "# Sadly, mypy finds no errors with the bad client.\n",
    "def tuple_distance(p1:tuple[float,float],p2:tuple[float,float]):\n",
    "    return distance(p1,p2)\n",
    "good_client(tuple_distance)\n",
    "bad_client(tuple_distance)"
   ]
  },
  {
   "cell_type": "code",
   "execution_count": 8,
   "id": "9f7eddc7",
   "metadata": {},
   "outputs": [
    {
     "name": "stdout",
     "output_type": "stream",
     "text": [
      "Good client ... distance =  5.0 (right)\n",
      "Bad client ... distance =  5.0 (wrong)\n"
     ]
    }
   ],
   "source": [
    "# This is similar to the above, but uses typing.Tuple.\n",
    "# This code communicates our intentions to client programmers. \n",
    "# Python still doesn't check the type hints.\n",
    "# And mypy still finds no errors with the bad client.\n",
    "from typing import Tuple\n",
    "def typing_distance(p1:Tuple[float,float],p2:Tuple[float,float]):\n",
    "    return distance(p1,p2)\n",
    "good_client(typing_distance)\n",
    "bad_client(typing_distance)"
   ]
  },
  {
   "cell_type": "code",
   "execution_count": 9,
   "id": "a241b1b8",
   "metadata": {},
   "outputs": [
    {
     "name": "stdout",
     "output_type": "stream",
     "text": [
      "What is Point? <class 'typing._GenericAlias'>\n",
      "Good client ... distance =  5.0 (right)\n",
      "Bad client ... distance =  5.0 (wrong)\n"
     ]
    }
   ],
   "source": [
    "# This version also communicates our intentions to client programmers.\n",
    "# But neither Python or mypy spot the error in bad client.\n",
    "Point = Tuple[float,float]\n",
    "print('What is Point?', type(Point))\n",
    "def type_safe_distance(p1:Point,p2:Point):\n",
    "    return distance(p1,p2)\n",
    "good_client(type_safe_distance)\n",
    "bad_client(type_safe_distance)"
   ]
  },
  {
   "cell_type": "markdown",
   "id": "05615719",
   "metadata": {},
   "source": [
    "## Use object-oriented instead!"
   ]
  },
  {
   "cell_type": "code",
   "execution_count": 11,
   "id": "b94989b7",
   "metadata": {},
   "outputs": [],
   "source": [
    "class Point2D():\n",
    "    def __init__(self,x:float,y:float):\n",
    "        self.x = x\n",
    "        self.y = y\n",
    "    def __repr__(self):\n",
    "        return 'Point2D('+str(self.x)+','+str(self.y)+')'\n",
    "    def __getitem__(self,i):\n",
    "        if i==0:\n",
    "            return self.x\n",
    "        if i==1:\n",
    "            return self.y\n",
    "        raise Exception(\"Index out of bounds: \"+str(i))\n",
    "    def distance(self,other:\"Point2D\"):\n",
    "        horizontal = self.x-other.x\n",
    "        vertical   = self.y-other.y\n",
    "        return hypot(horizontal,vertical)        \n"
   ]
  },
  {
   "cell_type": "code",
   "execution_count": 13,
   "id": "a0ed8bac",
   "metadata": {},
   "outputs": [
    {
     "name": "stdout",
     "output_type": "stream",
     "text": [
      "Points Point2D(0,0) Point2D(3,4) distance 5.0\n"
     ]
    }
   ],
   "source": [
    "def class_client():\n",
    "    p1 = Point2D(0,0)\n",
    "    p2 = Point2D(3,4)\n",
    "    dist = p1.distance(p2)\n",
    "    print('Points', p1, p2, 'distance',dist)\n",
    "class_client()"
   ]
  },
  {
   "cell_type": "code",
   "execution_count": 14,
   "id": "c9ed993c",
   "metadata": {},
   "outputs": [],
   "source": [
    "# Finally, we have some pretty safe code.\n",
    "# Python finds no errors with this.\n",
    "# Also, mypy finds no errors with this.\n",
    "# The client would have to work pretty hard to break this."
   ]
  },
  {
   "cell_type": "code",
   "execution_count": null,
   "id": "d7b290c4",
   "metadata": {},
   "outputs": [],
   "source": []
  }
 ],
 "metadata": {
  "kernelspec": {
   "display_name": "Python 3 (ipykernel)",
   "language": "python",
   "name": "python3"
  },
  "language_info": {
   "codemirror_mode": {
    "name": "ipython",
    "version": 3
   },
   "file_extension": ".py",
   "mimetype": "text/x-python",
   "name": "python",
   "nbconvert_exporter": "python",
   "pygments_lexer": "ipython3",
   "version": "3.10.0"
  }
 },
 "nbformat": 4,
 "nbformat_minor": 5
}
